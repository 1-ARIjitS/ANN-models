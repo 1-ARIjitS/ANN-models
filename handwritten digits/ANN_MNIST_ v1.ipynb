{
  "nbformat": 4,
  "nbformat_minor": 0,
  "metadata": {
    "colab": {
      "name": "ANN MNIST .ipynb",
      "provenance": [],
      "collapsed_sections": []
    },
    "kernelspec": {
      "name": "python3",
      "display_name": "Python 3"
    }
  },
  "cells": [
    {
      "cell_type": "code",
      "metadata": {
        "id": "9WyG0j9UInJW"
      },
      "source": [
        "import keras"
      ],
      "execution_count": 2,
      "outputs": []
    },
    {
      "cell_type": "code",
      "metadata": {
        "id": "Lk03BPWZI4bl",
        "outputId": "ed80a199-52c5-42a9-d948-e4ff6a716110",
        "colab": {
          "base_uri": "https://localhost:8080/",
          "height": 50
        }
      },
      "source": [
        "from keras.datasets import mnist\n",
        "(x_train,y_train),(x_test,y_test)=mnist.load_data()"
      ],
      "execution_count": 3,
      "outputs": [
        {
          "output_type": "stream",
          "text": [
            "Downloading data from https://storage.googleapis.com/tensorflow/tf-keras-datasets/mnist.npz\n",
            "11493376/11490434 [==============================] - 0s 0us/step\n"
          ],
          "name": "stdout"
        }
      ]
    },
    {
      "cell_type": "code",
      "metadata": {
        "id": "mR5NF66iJEhy"
      },
      "source": [
        "x_train=x_train.reshape(60000,784)\n",
        "x_test=x_test.reshape(10000,784)"
      ],
      "execution_count": 4,
      "outputs": []
    },
    {
      "cell_type": "code",
      "metadata": {
        "id": "X8x51XYpJJqj"
      },
      "source": [
        "x_train=x_train.astype('float32')\n",
        "x_test=x_test.astype('float32')\n",
        "x_train/=255\n",
        "x_test/=255"
      ],
      "execution_count": 5,
      "outputs": []
    },
    {
      "cell_type": "code",
      "metadata": {
        "id": "kr1FkOFXJOzO"
      },
      "source": [
        "from keras.utils import np_utils"
      ],
      "execution_count": 6,
      "outputs": []
    },
    {
      "cell_type": "code",
      "metadata": {
        "id": "OPz3T7zAJYLT"
      },
      "source": [
        "y_train=np_utils.to_categorical(y_train,10)\n",
        "y_test=np_utils.to_categorical(y_test,10)"
      ],
      "execution_count": 7,
      "outputs": []
    },
    {
      "cell_type": "code",
      "metadata": {
        "id": "Gcm6KvI3Jd9_"
      },
      "source": [
        "from tensorflow.python.keras.models import Sequential\n",
        "from tensorflow.python.keras.layers.core import Dense, Dropout, Activation\n",
        "\n"
      ],
      "execution_count": 8,
      "outputs": []
    },
    {
      "cell_type": "code",
      "metadata": {
        "id": "qeykNcXpKFz1"
      },
      "source": [
        "model=Sequential(Dropout(0.2))\n",
        "model.add(Dense(512, activation='relu', input_dim=784))\n",
        "model.add(Dense(512, activation='relu'))\n",
        "model.add(Dense(10, activation='softmax'))\n"
      ],
      "execution_count": 9,
      "outputs": []
    },
    {
      "cell_type": "code",
      "metadata": {
        "id": "tRfGCELEQNxf"
      },
      "source": [
        "model.compile(\n",
        "    optimizer='adam',\n",
        "    loss='categorical_crossentropy' ,\n",
        "    metrics=['accuracy']\n",
        "    \n",
        ")"
      ],
      "execution_count": 10,
      "outputs": []
    },
    {
      "cell_type": "code",
      "metadata": {
        "id": "jBQQ0aNNRHhj",
        "outputId": "1dc74605-ecd1-4493-e9ab-4e06b2feb5d7",
        "colab": {
          "base_uri": "https://localhost:8080/",
          "height": 370
        }
      },
      "source": [
        "model.fit(x_train,y_train,batch_size=128,epochs=10)\n",
        "    "
      ],
      "execution_count": 11,
      "outputs": [
        {
          "output_type": "stream",
          "text": [
            "Epoch 1/10\n",
            "469/469 [==============================] - 6s 14ms/step - loss: 0.2621 - accuracy: 0.9210\n",
            "Epoch 2/10\n",
            "469/469 [==============================] - 6s 14ms/step - loss: 0.1093 - accuracy: 0.9662\n",
            "Epoch 3/10\n",
            "469/469 [==============================] - 6s 14ms/step - loss: 0.0758 - accuracy: 0.9760\n",
            "Epoch 4/10\n",
            "469/469 [==============================] - 7s 14ms/step - loss: 0.0634 - accuracy: 0.9790\n",
            "Epoch 5/10\n",
            "469/469 [==============================] - 6s 14ms/step - loss: 0.0525 - accuracy: 0.9821\n",
            "Epoch 6/10\n",
            "469/469 [==============================] - 6s 14ms/step - loss: 0.0455 - accuracy: 0.9848\n",
            "Epoch 7/10\n",
            "469/469 [==============================] - 7s 14ms/step - loss: 0.0383 - accuracy: 0.9868\n",
            "Epoch 8/10\n",
            "469/469 [==============================] - 6s 14ms/step - loss: 0.0337 - accuracy: 0.9884\n",
            "Epoch 9/10\n",
            "469/469 [==============================] - 6s 14ms/step - loss: 0.0319 - accuracy: 0.9894\n",
            "Epoch 10/10\n",
            "469/469 [==============================] - 6s 14ms/step - loss: 0.0286 - accuracy: 0.9902\n"
          ],
          "name": "stdout"
        },
        {
          "output_type": "execute_result",
          "data": {
            "text/plain": [
              "<tensorflow.python.keras.callbacks.History at 0x7fcd63a7c518>"
            ]
          },
          "metadata": {
            "tags": []
          },
          "execution_count": 11
        }
      ]
    },
    {
      "cell_type": "code",
      "metadata": {
        "id": "aBafVwk6YrOh",
        "outputId": "763fff24-be7f-453b-be5a-103d74316887",
        "colab": {
          "base_uri": "https://localhost:8080/",
          "height": 50
        }
      },
      "source": [
        "model.evaluate(x_train,y_train)"
      ],
      "execution_count": 12,
      "outputs": [
        {
          "output_type": "stream",
          "text": [
            "1875/1875 [==============================] - 5s 2ms/step - loss: 0.0110 - accuracy: 0.9968\n"
          ],
          "name": "stdout"
        },
        {
          "output_type": "execute_result",
          "data": {
            "text/plain": [
              "[0.011004606261849403, 0.9968000054359436]"
            ]
          },
          "metadata": {
            "tags": []
          },
          "execution_count": 12
        }
      ]
    }
  ]
}